{
 "cells": [
  {
   "cell_type": "markdown",
   "metadata": {},
   "source": [
    "## Observations and Insights "
   ]
  },
  {
   "cell_type": "markdown",
   "metadata": {},
   "source": []
  },
  {
   "cell_type": "code",
   "execution_count": 136,
   "metadata": {},
   "outputs": [
    {
     "data": {
      "text/html": [
       "<div>\n",
       "<style scoped>\n",
       "    .dataframe tbody tr th:only-of-type {\n",
       "        vertical-align: middle;\n",
       "    }\n",
       "\n",
       "    .dataframe tbody tr th {\n",
       "        vertical-align: top;\n",
       "    }\n",
       "\n",
       "    .dataframe thead th {\n",
       "        text-align: right;\n",
       "    }\n",
       "</style>\n",
       "<table border=\"1\" class=\"dataframe\">\n",
       "  <thead>\n",
       "    <tr style=\"text-align: right;\">\n",
       "      <th></th>\n",
       "      <th>Mouse ID</th>\n",
       "      <th>Drug Regimen</th>\n",
       "      <th>Sex</th>\n",
       "      <th>Age_months</th>\n",
       "      <th>Weight (g)</th>\n",
       "      <th>Timepoint</th>\n",
       "      <th>Tumor Volume (mm3)</th>\n",
       "      <th>Metastatic Sites</th>\n",
       "    </tr>\n",
       "  </thead>\n",
       "  <tbody>\n",
       "    <tr>\n",
       "      <th>0</th>\n",
       "      <td>k403</td>\n",
       "      <td>Ramicane</td>\n",
       "      <td>Male</td>\n",
       "      <td>21</td>\n",
       "      <td>16</td>\n",
       "      <td>0</td>\n",
       "      <td>45.000000</td>\n",
       "      <td>0</td>\n",
       "    </tr>\n",
       "    <tr>\n",
       "      <th>1</th>\n",
       "      <td>k403</td>\n",
       "      <td>Ramicane</td>\n",
       "      <td>Male</td>\n",
       "      <td>21</td>\n",
       "      <td>16</td>\n",
       "      <td>5</td>\n",
       "      <td>38.825898</td>\n",
       "      <td>0</td>\n",
       "    </tr>\n",
       "    <tr>\n",
       "      <th>2</th>\n",
       "      <td>k403</td>\n",
       "      <td>Ramicane</td>\n",
       "      <td>Male</td>\n",
       "      <td>21</td>\n",
       "      <td>16</td>\n",
       "      <td>10</td>\n",
       "      <td>35.014271</td>\n",
       "      <td>1</td>\n",
       "    </tr>\n",
       "    <tr>\n",
       "      <th>3</th>\n",
       "      <td>k403</td>\n",
       "      <td>Ramicane</td>\n",
       "      <td>Male</td>\n",
       "      <td>21</td>\n",
       "      <td>16</td>\n",
       "      <td>15</td>\n",
       "      <td>34.223992</td>\n",
       "      <td>1</td>\n",
       "    </tr>\n",
       "    <tr>\n",
       "      <th>4</th>\n",
       "      <td>k403</td>\n",
       "      <td>Ramicane</td>\n",
       "      <td>Male</td>\n",
       "      <td>21</td>\n",
       "      <td>16</td>\n",
       "      <td>20</td>\n",
       "      <td>32.997729</td>\n",
       "      <td>1</td>\n",
       "    </tr>\n",
       "    <tr>\n",
       "      <th>...</th>\n",
       "      <td>...</td>\n",
       "      <td>...</td>\n",
       "      <td>...</td>\n",
       "      <td>...</td>\n",
       "      <td>...</td>\n",
       "      <td>...</td>\n",
       "      <td>...</td>\n",
       "      <td>...</td>\n",
       "    </tr>\n",
       "    <tr>\n",
       "      <th>1888</th>\n",
       "      <td>z969</td>\n",
       "      <td>Naftisol</td>\n",
       "      <td>Male</td>\n",
       "      <td>9</td>\n",
       "      <td>30</td>\n",
       "      <td>25</td>\n",
       "      <td>63.145652</td>\n",
       "      <td>2</td>\n",
       "    </tr>\n",
       "    <tr>\n",
       "      <th>1889</th>\n",
       "      <td>z969</td>\n",
       "      <td>Naftisol</td>\n",
       "      <td>Male</td>\n",
       "      <td>9</td>\n",
       "      <td>30</td>\n",
       "      <td>30</td>\n",
       "      <td>65.841013</td>\n",
       "      <td>3</td>\n",
       "    </tr>\n",
       "    <tr>\n",
       "      <th>1890</th>\n",
       "      <td>z969</td>\n",
       "      <td>Naftisol</td>\n",
       "      <td>Male</td>\n",
       "      <td>9</td>\n",
       "      <td>30</td>\n",
       "      <td>35</td>\n",
       "      <td>69.176246</td>\n",
       "      <td>4</td>\n",
       "    </tr>\n",
       "    <tr>\n",
       "      <th>1891</th>\n",
       "      <td>z969</td>\n",
       "      <td>Naftisol</td>\n",
       "      <td>Male</td>\n",
       "      <td>9</td>\n",
       "      <td>30</td>\n",
       "      <td>40</td>\n",
       "      <td>70.314904</td>\n",
       "      <td>4</td>\n",
       "    </tr>\n",
       "    <tr>\n",
       "      <th>1892</th>\n",
       "      <td>z969</td>\n",
       "      <td>Naftisol</td>\n",
       "      <td>Male</td>\n",
       "      <td>9</td>\n",
       "      <td>30</td>\n",
       "      <td>45</td>\n",
       "      <td>73.867845</td>\n",
       "      <td>4</td>\n",
       "    </tr>\n",
       "  </tbody>\n",
       "</table>\n",
       "<p>1893 rows × 8 columns</p>\n",
       "</div>"
      ],
      "text/plain": [
       "     Mouse ID Drug Regimen   Sex  Age_months  Weight (g)  Timepoint  \\\n",
       "0        k403     Ramicane  Male          21          16          0   \n",
       "1        k403     Ramicane  Male          21          16          5   \n",
       "2        k403     Ramicane  Male          21          16         10   \n",
       "3        k403     Ramicane  Male          21          16         15   \n",
       "4        k403     Ramicane  Male          21          16         20   \n",
       "...       ...          ...   ...         ...         ...        ...   \n",
       "1888     z969     Naftisol  Male           9          30         25   \n",
       "1889     z969     Naftisol  Male           9          30         30   \n",
       "1890     z969     Naftisol  Male           9          30         35   \n",
       "1891     z969     Naftisol  Male           9          30         40   \n",
       "1892     z969     Naftisol  Male           9          30         45   \n",
       "\n",
       "      Tumor Volume (mm3)  Metastatic Sites  \n",
       "0              45.000000                 0  \n",
       "1              38.825898                 0  \n",
       "2              35.014271                 1  \n",
       "3              34.223992                 1  \n",
       "4              32.997729                 1  \n",
       "...                  ...               ...  \n",
       "1888           63.145652                 2  \n",
       "1889           65.841013                 3  \n",
       "1890           69.176246                 4  \n",
       "1891           70.314904                 4  \n",
       "1892           73.867845                 4  \n",
       "\n",
       "[1893 rows x 8 columns]"
      ]
     },
     "execution_count": 136,
     "metadata": {},
     "output_type": "execute_result"
    }
   ],
   "source": [
    "# Dependencies and Setup\n",
    "import matplotlib.pyplot as plt\n",
    "import pandas as pd\n",
    "import scipy.stats as st\n",
    "import numpy as np\n",
    "\n",
    "# Study data files\n",
    "mouse_metadata_path = \"data/Mouse_metadata.csv\"\n",
    "study_results_path = \"data/Study_results.csv\"\n",
    "\n",
    "# Read the mouse data and the study results\n",
    "mouse_metadata = pd.read_csv(mouse_metadata_path)\n",
    "study_results = pd.read_csv(study_results_path)\n",
    "\n",
    "# Combine the data into a single dataset\n",
    "combined_df = pd.merge(mouse_metadata, study_results, how = 'outer')\n",
    "# Display the data table for preview\n",
    "combined_df"
   ]
  },
  {
   "cell_type": "code",
   "execution_count": 2,
   "metadata": {},
   "outputs": [
    {
     "data": {
      "text/plain": [
       "249"
      ]
     },
     "execution_count": 2,
     "metadata": {},
     "output_type": "execute_result"
    }
   ],
   "source": [
    "# Checking the number of mice.\n",
    "mouse_count = combined_df[\"Mouse ID\"].nunique()\n",
    "mouse_count"
   ]
  },
  {
   "cell_type": "code",
   "execution_count": 3,
   "metadata": {},
   "outputs": [],
   "source": [
    "# Getting the duplicate mice by ID number that shows up for Mouse ID and Timepoint. \n",
    "combined_df[\"duplicated\"] = combined_df.duplicated(keep='first', subset=[\"Mouse ID\", \"Timepoint\"])"
   ]
  },
  {
   "cell_type": "code",
   "execution_count": 4,
   "metadata": {},
   "outputs": [],
   "source": [
    "# Optional: Get all the data for the duplicate mouse ID. "
   ]
  },
  {
   "cell_type": "code",
   "execution_count": 5,
   "metadata": {},
   "outputs": [
    {
     "data": {
      "text/html": [
       "<div>\n",
       "<style scoped>\n",
       "    .dataframe tbody tr th:only-of-type {\n",
       "        vertical-align: middle;\n",
       "    }\n",
       "\n",
       "    .dataframe tbody tr th {\n",
       "        vertical-align: top;\n",
       "    }\n",
       "\n",
       "    .dataframe thead th {\n",
       "        text-align: right;\n",
       "    }\n",
       "</style>\n",
       "<table border=\"1\" class=\"dataframe\">\n",
       "  <thead>\n",
       "    <tr style=\"text-align: right;\">\n",
       "      <th></th>\n",
       "      <th>Mouse ID</th>\n",
       "      <th>Drug Regimen</th>\n",
       "      <th>Sex</th>\n",
       "      <th>Age_months</th>\n",
       "      <th>Weight (g)</th>\n",
       "      <th>Timepoint</th>\n",
       "      <th>Tumor Volume (mm3)</th>\n",
       "      <th>Metastatic Sites</th>\n",
       "      <th>duplicated</th>\n",
       "    </tr>\n",
       "  </thead>\n",
       "  <tbody>\n",
       "    <tr>\n",
       "      <th>0</th>\n",
       "      <td>k403</td>\n",
       "      <td>Ramicane</td>\n",
       "      <td>Male</td>\n",
       "      <td>21</td>\n",
       "      <td>16</td>\n",
       "      <td>0</td>\n",
       "      <td>45.000000</td>\n",
       "      <td>0</td>\n",
       "      <td>False</td>\n",
       "    </tr>\n",
       "    <tr>\n",
       "      <th>1</th>\n",
       "      <td>k403</td>\n",
       "      <td>Ramicane</td>\n",
       "      <td>Male</td>\n",
       "      <td>21</td>\n",
       "      <td>16</td>\n",
       "      <td>5</td>\n",
       "      <td>38.825898</td>\n",
       "      <td>0</td>\n",
       "      <td>False</td>\n",
       "    </tr>\n",
       "    <tr>\n",
       "      <th>2</th>\n",
       "      <td>k403</td>\n",
       "      <td>Ramicane</td>\n",
       "      <td>Male</td>\n",
       "      <td>21</td>\n",
       "      <td>16</td>\n",
       "      <td>10</td>\n",
       "      <td>35.014271</td>\n",
       "      <td>1</td>\n",
       "      <td>False</td>\n",
       "    </tr>\n",
       "    <tr>\n",
       "      <th>3</th>\n",
       "      <td>k403</td>\n",
       "      <td>Ramicane</td>\n",
       "      <td>Male</td>\n",
       "      <td>21</td>\n",
       "      <td>16</td>\n",
       "      <td>15</td>\n",
       "      <td>34.223992</td>\n",
       "      <td>1</td>\n",
       "      <td>False</td>\n",
       "    </tr>\n",
       "    <tr>\n",
       "      <th>4</th>\n",
       "      <td>k403</td>\n",
       "      <td>Ramicane</td>\n",
       "      <td>Male</td>\n",
       "      <td>21</td>\n",
       "      <td>16</td>\n",
       "      <td>20</td>\n",
       "      <td>32.997729</td>\n",
       "      <td>1</td>\n",
       "      <td>False</td>\n",
       "    </tr>\n",
       "    <tr>\n",
       "      <th>...</th>\n",
       "      <td>...</td>\n",
       "      <td>...</td>\n",
       "      <td>...</td>\n",
       "      <td>...</td>\n",
       "      <td>...</td>\n",
       "      <td>...</td>\n",
       "      <td>...</td>\n",
       "      <td>...</td>\n",
       "      <td>...</td>\n",
       "    </tr>\n",
       "    <tr>\n",
       "      <th>1888</th>\n",
       "      <td>z969</td>\n",
       "      <td>Naftisol</td>\n",
       "      <td>Male</td>\n",
       "      <td>9</td>\n",
       "      <td>30</td>\n",
       "      <td>25</td>\n",
       "      <td>63.145652</td>\n",
       "      <td>2</td>\n",
       "      <td>False</td>\n",
       "    </tr>\n",
       "    <tr>\n",
       "      <th>1889</th>\n",
       "      <td>z969</td>\n",
       "      <td>Naftisol</td>\n",
       "      <td>Male</td>\n",
       "      <td>9</td>\n",
       "      <td>30</td>\n",
       "      <td>30</td>\n",
       "      <td>65.841013</td>\n",
       "      <td>3</td>\n",
       "      <td>False</td>\n",
       "    </tr>\n",
       "    <tr>\n",
       "      <th>1890</th>\n",
       "      <td>z969</td>\n",
       "      <td>Naftisol</td>\n",
       "      <td>Male</td>\n",
       "      <td>9</td>\n",
       "      <td>30</td>\n",
       "      <td>35</td>\n",
       "      <td>69.176246</td>\n",
       "      <td>4</td>\n",
       "      <td>False</td>\n",
       "    </tr>\n",
       "    <tr>\n",
       "      <th>1891</th>\n",
       "      <td>z969</td>\n",
       "      <td>Naftisol</td>\n",
       "      <td>Male</td>\n",
       "      <td>9</td>\n",
       "      <td>30</td>\n",
       "      <td>40</td>\n",
       "      <td>70.314904</td>\n",
       "      <td>4</td>\n",
       "      <td>False</td>\n",
       "    </tr>\n",
       "    <tr>\n",
       "      <th>1892</th>\n",
       "      <td>z969</td>\n",
       "      <td>Naftisol</td>\n",
       "      <td>Male</td>\n",
       "      <td>9</td>\n",
       "      <td>30</td>\n",
       "      <td>45</td>\n",
       "      <td>73.867845</td>\n",
       "      <td>4</td>\n",
       "      <td>False</td>\n",
       "    </tr>\n",
       "  </tbody>\n",
       "</table>\n",
       "<p>1888 rows × 9 columns</p>\n",
       "</div>"
      ],
      "text/plain": [
       "     Mouse ID Drug Regimen   Sex  Age_months  Weight (g)  Timepoint  \\\n",
       "0        k403     Ramicane  Male          21          16          0   \n",
       "1        k403     Ramicane  Male          21          16          5   \n",
       "2        k403     Ramicane  Male          21          16         10   \n",
       "3        k403     Ramicane  Male          21          16         15   \n",
       "4        k403     Ramicane  Male          21          16         20   \n",
       "...       ...          ...   ...         ...         ...        ...   \n",
       "1888     z969     Naftisol  Male           9          30         25   \n",
       "1889     z969     Naftisol  Male           9          30         30   \n",
       "1890     z969     Naftisol  Male           9          30         35   \n",
       "1891     z969     Naftisol  Male           9          30         40   \n",
       "1892     z969     Naftisol  Male           9          30         45   \n",
       "\n",
       "      Tumor Volume (mm3)  Metastatic Sites  duplicated  \n",
       "0              45.000000                 0       False  \n",
       "1              38.825898                 0       False  \n",
       "2              35.014271                 1       False  \n",
       "3              34.223992                 1       False  \n",
       "4              32.997729                 1       False  \n",
       "...                  ...               ...         ...  \n",
       "1888           63.145652                 2       False  \n",
       "1889           65.841013                 3       False  \n",
       "1890           69.176246                 4       False  \n",
       "1891           70.314904                 4       False  \n",
       "1892           73.867845                 4       False  \n",
       "\n",
       "[1888 rows x 9 columns]"
      ]
     },
     "execution_count": 5,
     "metadata": {},
     "output_type": "execute_result"
    }
   ],
   "source": [
    "# Create a clean DataFrame by dropping the duplicate mouse by its ID.\n",
    "drop_duplicated_rows = combined_df.drop_duplicates(subset=[\"Mouse ID\", \"Timepoint\"],keep='first')\n",
    "drop_duplicated_rows"
   ]
  },
  {
   "cell_type": "code",
   "execution_count": 6,
   "metadata": {},
   "outputs": [
    {
     "data": {
      "text/plain": [
       "249"
      ]
     },
     "execution_count": 6,
     "metadata": {},
     "output_type": "execute_result"
    }
   ],
   "source": [
    "# Checking the number of mice in the clean DataFrame.\n",
    "mouse_count = drop_duplicated_rows[\"Mouse ID\"].nunique()\n",
    "mouse_count"
   ]
  },
  {
   "cell_type": "markdown",
   "metadata": {},
   "source": [
    "## Summary Statistics"
   ]
  },
  {
   "cell_type": "code",
   "execution_count": 7,
   "metadata": {},
   "outputs": [
    {
     "data": {
      "text/html": [
       "<div>\n",
       "<style scoped>\n",
       "    .dataframe tbody tr th:only-of-type {\n",
       "        vertical-align: middle;\n",
       "    }\n",
       "\n",
       "    .dataframe tbody tr th {\n",
       "        vertical-align: top;\n",
       "    }\n",
       "\n",
       "    .dataframe thead th {\n",
       "        text-align: right;\n",
       "    }\n",
       "</style>\n",
       "<table border=\"1\" class=\"dataframe\">\n",
       "  <thead>\n",
       "    <tr style=\"text-align: right;\">\n",
       "      <th></th>\n",
       "      <th>Mean</th>\n",
       "      <th>Median</th>\n",
       "      <th>Variance</th>\n",
       "      <th>Standard Deviation</th>\n",
       "      <th>SEM</th>\n",
       "    </tr>\n",
       "  </thead>\n",
       "  <tbody>\n",
       "    <tr>\n",
       "      <th>Capomulin</th>\n",
       "      <td>40.68</td>\n",
       "      <td>41.56</td>\n",
       "      <td>24.95</td>\n",
       "      <td>4.99</td>\n",
       "      <td>0.33</td>\n",
       "    </tr>\n",
       "    <tr>\n",
       "      <th>Ceftamin</th>\n",
       "      <td>52.59</td>\n",
       "      <td>51.78</td>\n",
       "      <td>39.29</td>\n",
       "      <td>6.27</td>\n",
       "      <td>0.47</td>\n",
       "    </tr>\n",
       "    <tr>\n",
       "      <th>Infubinol</th>\n",
       "      <td>52.88</td>\n",
       "      <td>51.82</td>\n",
       "      <td>43.13</td>\n",
       "      <td>6.57</td>\n",
       "      <td>0.49</td>\n",
       "    </tr>\n",
       "    <tr>\n",
       "      <th>Ketapril</th>\n",
       "      <td>55.24</td>\n",
       "      <td>53.70</td>\n",
       "      <td>68.55</td>\n",
       "      <td>8.28</td>\n",
       "      <td>0.60</td>\n",
       "    </tr>\n",
       "    <tr>\n",
       "      <th>Naftisol</th>\n",
       "      <td>54.33</td>\n",
       "      <td>52.51</td>\n",
       "      <td>66.17</td>\n",
       "      <td>8.13</td>\n",
       "      <td>0.60</td>\n",
       "    </tr>\n",
       "    <tr>\n",
       "      <th>Placebo</th>\n",
       "      <td>54.03</td>\n",
       "      <td>52.29</td>\n",
       "      <td>61.17</td>\n",
       "      <td>7.82</td>\n",
       "      <td>0.58</td>\n",
       "    </tr>\n",
       "    <tr>\n",
       "      <th>Propriva</th>\n",
       "      <td>52.39</td>\n",
       "      <td>50.91</td>\n",
       "      <td>43.14</td>\n",
       "      <td>6.57</td>\n",
       "      <td>0.53</td>\n",
       "    </tr>\n",
       "    <tr>\n",
       "      <th>Ramicane</th>\n",
       "      <td>40.22</td>\n",
       "      <td>40.67</td>\n",
       "      <td>23.49</td>\n",
       "      <td>4.85</td>\n",
       "      <td>0.32</td>\n",
       "    </tr>\n",
       "    <tr>\n",
       "      <th>Stelasyn</th>\n",
       "      <td>54.23</td>\n",
       "      <td>52.43</td>\n",
       "      <td>59.45</td>\n",
       "      <td>7.71</td>\n",
       "      <td>0.57</td>\n",
       "    </tr>\n",
       "    <tr>\n",
       "      <th>Zoniferol</th>\n",
       "      <td>53.24</td>\n",
       "      <td>51.82</td>\n",
       "      <td>48.53</td>\n",
       "      <td>6.97</td>\n",
       "      <td>0.52</td>\n",
       "    </tr>\n",
       "  </tbody>\n",
       "</table>\n",
       "</div>"
      ],
      "text/plain": [
       "            Mean Median Variance Standard Deviation   SEM\n",
       "Capomulin  40.68  41.56    24.95               4.99  0.33\n",
       "Ceftamin   52.59  51.78    39.29               6.27  0.47\n",
       "Infubinol  52.88  51.82    43.13               6.57  0.49\n",
       "Ketapril   55.24  53.70    68.55               8.28  0.60\n",
       "Naftisol   54.33  52.51    66.17               8.13  0.60\n",
       "Placebo    54.03  52.29    61.17               7.82  0.58\n",
       "Propriva   52.39  50.91    43.14               6.57  0.53\n",
       "Ramicane   40.22  40.67    23.49               4.85  0.32\n",
       "Stelasyn   54.23  52.43    59.45               7.71  0.57\n",
       "Zoniferol  53.24  51.82    48.53               6.97  0.52"
      ]
     },
     "execution_count": 7,
     "metadata": {},
     "output_type": "execute_result"
    }
   ],
   "source": [
    "# Generate a summary statistics table of mean, median, variance, standard deviation, and SEM of the tumor volume for each regimen\n",
    "\n",
    "# This method is the most straighforward, creating multiple series and putting them all together at the end.\n",
    "Naftisol_mean = drop_duplicated_rows[\"Tumor Volume (mm3)\"].loc[drop_duplicated_rows[\"Drug Regimen\"] == \"Naftisol\"].mean()\n",
    "Ramican_mean = drop_duplicated_rows[\"Tumor Volume (mm3)\"].loc[drop_duplicated_rows[\"Drug Regimen\"] == \"Ramicane\"].mean()\n",
    "Capomulin_mean = drop_duplicated_rows[\"Tumor Volume (mm3)\"].loc[drop_duplicated_rows[\"Drug Regimen\"] == \"Capomulin\"].mean()\n",
    "Ceftamin_mean = drop_duplicated_rows[\"Tumor Volume (mm3)\"].loc[drop_duplicated_rows[\"Drug Regimen\"] == \"Ceftamin\"].mean()\n",
    "Infubinol_mean = drop_duplicated_rows[\"Tumor Volume (mm3)\"].loc[drop_duplicated_rows[\"Drug Regimen\"] == \"Infubinol\"].mean()\n",
    "Ketapril_mean = drop_duplicated_rows[\"Tumor Volume (mm3)\"].loc[drop_duplicated_rows[\"Drug Regimen\"] == \"Ketapril\"].mean()\n",
    "Placebo_mean = drop_duplicated_rows[\"Tumor Volume (mm3)\"].loc[drop_duplicated_rows[\"Drug Regimen\"] == \"Placebo\"].mean()\n",
    "Propriva_mean = drop_duplicated_rows[\"Tumor Volume (mm3)\"].loc[drop_duplicated_rows[\"Drug Regimen\"] == \"Propriva\"].mean()\n",
    "Stelasyn_mean = drop_duplicated_rows[\"Tumor Volume (mm3)\"].loc[drop_duplicated_rows[\"Drug Regimen\"] == \"Stelasyn\"].mean()\n",
    "Zoniferol_mean = drop_duplicated_rows[\"Tumor Volume (mm3)\"].loc[drop_duplicated_rows[\"Drug Regimen\"] == \"Zoniferol\"].mean()\n",
    "Naftisol_median = drop_duplicated_rows[\"Tumor Volume (mm3)\"].loc[drop_duplicated_rows[\"Drug Regimen\"] == \"Naftisol\"].median()\n",
    "Ramican_median = drop_duplicated_rows[\"Tumor Volume (mm3)\"].loc[drop_duplicated_rows[\"Drug Regimen\"] == \"Ramicane\"].median()\n",
    "Capomulin_median = drop_duplicated_rows[\"Tumor Volume (mm3)\"].loc[drop_duplicated_rows[\"Drug Regimen\"] == \"Capomulin\"].median()\n",
    "Ceftamin_median = drop_duplicated_rows[\"Tumor Volume (mm3)\"].loc[drop_duplicated_rows[\"Drug Regimen\"] == \"Ceftamin\"].median()\n",
    "Infubinol_median = drop_duplicated_rows[\"Tumor Volume (mm3)\"].loc[drop_duplicated_rows[\"Drug Regimen\"] == \"Infubinol\"].median()\n",
    "Ketapril_median = drop_duplicated_rows[\"Tumor Volume (mm3)\"].loc[drop_duplicated_rows[\"Drug Regimen\"] == \"Ketapril\"].median()\n",
    "Placebo_median = drop_duplicated_rows[\"Tumor Volume (mm3)\"].loc[drop_duplicated_rows[\"Drug Regimen\"] == \"Placebo\"].median()\n",
    "Propriva_median = drop_duplicated_rows[\"Tumor Volume (mm3)\"].loc[drop_duplicated_rows[\"Drug Regimen\"] == \"Propriva\"].median()\n",
    "Stelasyn_median = drop_duplicated_rows[\"Tumor Volume (mm3)\"].loc[drop_duplicated_rows[\"Drug Regimen\"] == \"Stelasyn\"].median()\n",
    "Zoniferol_median = drop_duplicated_rows[\"Tumor Volume (mm3)\"].loc[drop_duplicated_rows[\"Drug Regimen\"] == \"Zoniferol\"].median()\n",
    "Naftisol_var = drop_duplicated_rows[\"Tumor Volume (mm3)\"].loc[drop_duplicated_rows[\"Drug Regimen\"] == \"Naftisol\"].var()\n",
    "Ramican_var = drop_duplicated_rows[\"Tumor Volume (mm3)\"].loc[drop_duplicated_rows[\"Drug Regimen\"] == \"Ramicane\"].var()\n",
    "Capomulin_var = drop_duplicated_rows[\"Tumor Volume (mm3)\"].loc[drop_duplicated_rows[\"Drug Regimen\"] == \"Capomulin\"].var()\n",
    "Ceftamin_var = drop_duplicated_rows[\"Tumor Volume (mm3)\"].loc[drop_duplicated_rows[\"Drug Regimen\"] == \"Ceftamin\"].var()\n",
    "Infubinol_var = drop_duplicated_rows[\"Tumor Volume (mm3)\"].loc[drop_duplicated_rows[\"Drug Regimen\"] == \"Infubinol\"].var()\n",
    "Ketapril_var = drop_duplicated_rows[\"Tumor Volume (mm3)\"].loc[drop_duplicated_rows[\"Drug Regimen\"] == \"Ketapril\"].var()\n",
    "Placebo_var = drop_duplicated_rows[\"Tumor Volume (mm3)\"].loc[drop_duplicated_rows[\"Drug Regimen\"] == \"Placebo\"].var()\n",
    "Propriva_var = drop_duplicated_rows[\"Tumor Volume (mm3)\"].loc[drop_duplicated_rows[\"Drug Regimen\"] == \"Propriva\"].var()\n",
    "Stelasyn_var = drop_duplicated_rows[\"Tumor Volume (mm3)\"].loc[drop_duplicated_rows[\"Drug Regimen\"] == \"Stelasyn\"].var()\n",
    "Zoniferol_var = drop_duplicated_rows[\"Tumor Volume (mm3)\"].loc[drop_duplicated_rows[\"Drug Regimen\"] == \"Zoniferol\"].var()\n",
    "Naftisol_std = drop_duplicated_rows[\"Tumor Volume (mm3)\"].loc[drop_duplicated_rows[\"Drug Regimen\"] == \"Naftisol\"].std()\n",
    "Ramican_std = drop_duplicated_rows[\"Tumor Volume (mm3)\"].loc[drop_duplicated_rows[\"Drug Regimen\"] == \"Ramicane\"].std()\n",
    "Capomulin_std = drop_duplicated_rows[\"Tumor Volume (mm3)\"].loc[drop_duplicated_rows[\"Drug Regimen\"] == \"Capomulin\"].std()\n",
    "Ceftamin_std = drop_duplicated_rows[\"Tumor Volume (mm3)\"].loc[drop_duplicated_rows[\"Drug Regimen\"] == \"Ceftamin\"].std()\n",
    "Infubinol_std = drop_duplicated_rows[\"Tumor Volume (mm3)\"].loc[drop_duplicated_rows[\"Drug Regimen\"] == \"Infubinol\"].std()\n",
    "Ketapril_std = drop_duplicated_rows[\"Tumor Volume (mm3)\"].loc[drop_duplicated_rows[\"Drug Regimen\"] == \"Ketapril\"].std()\n",
    "Placebo_std = drop_duplicated_rows[\"Tumor Volume (mm3)\"].loc[drop_duplicated_rows[\"Drug Regimen\"] == \"Placebo\"].std()\n",
    "Propriva_std = drop_duplicated_rows[\"Tumor Volume (mm3)\"].loc[drop_duplicated_rows[\"Drug Regimen\"] == \"Propriva\"].std()\n",
    "Stelasyn_std = drop_duplicated_rows[\"Tumor Volume (mm3)\"].loc[drop_duplicated_rows[\"Drug Regimen\"] == \"Stelasyn\"].std()\n",
    "Zoniferol_std = drop_duplicated_rows[\"Tumor Volume (mm3)\"].loc[drop_duplicated_rows[\"Drug Regimen\"] == \"Zoniferol\"].std()\n",
    "Naftisol_sem = drop_duplicated_rows[\"Tumor Volume (mm3)\"].loc[drop_duplicated_rows[\"Drug Regimen\"] == \"Naftisol\"].sem()\n",
    "Ramican_sem = drop_duplicated_rows[\"Tumor Volume (mm3)\"].loc[drop_duplicated_rows[\"Drug Regimen\"] == \"Ramicane\"].sem()\n",
    "Capomulin_sem = drop_duplicated_rows[\"Tumor Volume (mm3)\"].loc[drop_duplicated_rows[\"Drug Regimen\"] == \"Capomulin\"].sem()\n",
    "Ceftamin_sem = drop_duplicated_rows[\"Tumor Volume (mm3)\"].loc[drop_duplicated_rows[\"Drug Regimen\"] == \"Ceftamin\"].sem()\n",
    "Infubinol_sem = drop_duplicated_rows[\"Tumor Volume (mm3)\"].loc[drop_duplicated_rows[\"Drug Regimen\"] == \"Infubinol\"].sem()\n",
    "Ketapril_sem = drop_duplicated_rows[\"Tumor Volume (mm3)\"].loc[drop_duplicated_rows[\"Drug Regimen\"] == \"Ketapril\"].sem()\n",
    "Placebo_sem = drop_duplicated_rows[\"Tumor Volume (mm3)\"].loc[drop_duplicated_rows[\"Drug Regimen\"] == \"Placebo\"].sem()\n",
    "Propriva_sem = drop_duplicated_rows[\"Tumor Volume (mm3)\"].loc[drop_duplicated_rows[\"Drug Regimen\"] == \"Propriva\"].sem()\n",
    "Stelasyn_sem = drop_duplicated_rows[\"Tumor Volume (mm3)\"].loc[drop_duplicated_rows[\"Drug Regimen\"] == \"Stelasyn\"].sem()\n",
    "Zoniferol_sem = drop_duplicated_rows[\"Tumor Volume (mm3)\"].loc[drop_duplicated_rows[\"Drug Regimen\"] == \"Zoniferol\"].sem()\n",
    "\n",
    "summary_df = pd.DataFrame({\"Mean\": [Capomulin_mean, Ceftamin_mean, Infubinol_mean, Ketapril_mean, Naftisol_mean, Placebo_mean, Propriva_mean, Ramican_mean, Stelasyn_mean, Zoniferol_mean],\n",
    "                                    \"Median\" : [Capomulin_median, Ceftamin_median, Infubinol_median, Ketapril_median, Naftisol_median, Placebo_median, Propriva_median, Ramican_median, Stelasyn_median, Zoniferol_median],\n",
    "                                    \"Variance\": [Capomulin_var, Ceftamin_var, Infubinol_var, Ketapril_var, Naftisol_var, Placebo_var, Propriva_var, Ramican_var, Stelasyn_var, Zoniferol_var],\n",
    "                                    \"Standard Deviation\": [Capomulin_std, Ceftamin_std, Infubinol_std, Ketapril_std, Naftisol_std, Placebo_std, Propriva_std, Ramican_std, Stelasyn_std, Zoniferol_std],\n",
    "                                    \"SEM\": [Capomulin_sem, Ceftamin_sem, Infubinol_sem, Ketapril_sem, Naftisol_sem, Placebo_sem, Propriva_sem, Ramican_sem, Stelasyn_sem, Zoniferol_sem]},\n",
    "                         index = [\"Capomulin\", \"Ceftamin\", \"Infubinol\", \"Ketapril\", \"Naftisol\", \"Placebo\", \"Propriva\", \"Ramicane\", \"Stelasyn\", \"Zoniferol\"]) \n",
    "summary_df[\"Mean\"] = summary_df[\"Mean\"].map('{:,.2f}'.format)\n",
    "summary_df[\"Median\"] = summary_df[\"Median\"].map('{:,.2f}'.format)\n",
    "summary_df[\"Variance\"] = summary_df[\"Variance\"].map('{:,.2f}'.format)\n",
    "summary_df[\"Standard Deviation\"] = summary_df[\"Standard Deviation\"].map('{:,.2f}'.format)\n",
    "summary_df[\"SEM\"] = summary_df[\"SEM\"].map('{:,.2f}'.format)\n",
    "summary_df"
   ]
  },
  {
   "cell_type": "code",
   "execution_count": 8,
   "metadata": {},
   "outputs": [
    {
     "data": {
      "text/html": [
       "<div>\n",
       "<style scoped>\n",
       "    .dataframe tbody tr th:only-of-type {\n",
       "        vertical-align: middle;\n",
       "    }\n",
       "\n",
       "    .dataframe tbody tr th {\n",
       "        vertical-align: top;\n",
       "    }\n",
       "\n",
       "    .dataframe thead th {\n",
       "        text-align: right;\n",
       "    }\n",
       "</style>\n",
       "<table border=\"1\" class=\"dataframe\">\n",
       "  <thead>\n",
       "    <tr style=\"text-align: right;\">\n",
       "      <th></th>\n",
       "      <th>Mean</th>\n",
       "      <th>Median</th>\n",
       "      <th>Variance</th>\n",
       "      <th>Standard Deviation</th>\n",
       "      <th>SEM</th>\n",
       "    </tr>\n",
       "    <tr>\n",
       "      <th>Drug Regimen</th>\n",
       "      <th></th>\n",
       "      <th></th>\n",
       "      <th></th>\n",
       "      <th></th>\n",
       "      <th></th>\n",
       "    </tr>\n",
       "  </thead>\n",
       "  <tbody>\n",
       "    <tr>\n",
       "      <th>Capomulin</th>\n",
       "      <td>40.68</td>\n",
       "      <td>41.56</td>\n",
       "      <td>24.95</td>\n",
       "      <td>4.99</td>\n",
       "      <td>0.33</td>\n",
       "    </tr>\n",
       "    <tr>\n",
       "      <th>Ceftamin</th>\n",
       "      <td>52.59</td>\n",
       "      <td>51.78</td>\n",
       "      <td>39.29</td>\n",
       "      <td>6.27</td>\n",
       "      <td>0.47</td>\n",
       "    </tr>\n",
       "    <tr>\n",
       "      <th>Infubinol</th>\n",
       "      <td>52.88</td>\n",
       "      <td>51.82</td>\n",
       "      <td>43.13</td>\n",
       "      <td>6.57</td>\n",
       "      <td>0.49</td>\n",
       "    </tr>\n",
       "    <tr>\n",
       "      <th>Ketapril</th>\n",
       "      <td>55.24</td>\n",
       "      <td>53.70</td>\n",
       "      <td>68.55</td>\n",
       "      <td>8.28</td>\n",
       "      <td>0.60</td>\n",
       "    </tr>\n",
       "    <tr>\n",
       "      <th>Naftisol</th>\n",
       "      <td>54.33</td>\n",
       "      <td>52.51</td>\n",
       "      <td>66.17</td>\n",
       "      <td>8.13</td>\n",
       "      <td>0.60</td>\n",
       "    </tr>\n",
       "    <tr>\n",
       "      <th>Placebo</th>\n",
       "      <td>54.03</td>\n",
       "      <td>52.29</td>\n",
       "      <td>61.17</td>\n",
       "      <td>7.82</td>\n",
       "      <td>0.58</td>\n",
       "    </tr>\n",
       "    <tr>\n",
       "      <th>Propriva</th>\n",
       "      <td>52.39</td>\n",
       "      <td>50.91</td>\n",
       "      <td>43.14</td>\n",
       "      <td>6.57</td>\n",
       "      <td>0.53</td>\n",
       "    </tr>\n",
       "    <tr>\n",
       "      <th>Ramicane</th>\n",
       "      <td>40.22</td>\n",
       "      <td>40.67</td>\n",
       "      <td>23.49</td>\n",
       "      <td>4.85</td>\n",
       "      <td>0.32</td>\n",
       "    </tr>\n",
       "    <tr>\n",
       "      <th>Stelasyn</th>\n",
       "      <td>54.23</td>\n",
       "      <td>52.43</td>\n",
       "      <td>59.45</td>\n",
       "      <td>7.71</td>\n",
       "      <td>0.57</td>\n",
       "    </tr>\n",
       "    <tr>\n",
       "      <th>Zoniferol</th>\n",
       "      <td>53.24</td>\n",
       "      <td>51.82</td>\n",
       "      <td>48.53</td>\n",
       "      <td>6.97</td>\n",
       "      <td>0.52</td>\n",
       "    </tr>\n",
       "  </tbody>\n",
       "</table>\n",
       "</div>"
      ],
      "text/plain": [
       "               Mean Median Variance Standard Deviation   SEM\n",
       "Drug Regimen                                                \n",
       "Capomulin     40.68  41.56    24.95               4.99  0.33\n",
       "Ceftamin      52.59  51.78    39.29               6.27  0.47\n",
       "Infubinol     52.88  51.82    43.13               6.57  0.49\n",
       "Ketapril      55.24  53.70    68.55               8.28  0.60\n",
       "Naftisol      54.33  52.51    66.17               8.13  0.60\n",
       "Placebo       54.03  52.29    61.17               7.82  0.58\n",
       "Propriva      52.39  50.91    43.14               6.57  0.53\n",
       "Ramicane      40.22  40.67    23.49               4.85  0.32\n",
       "Stelasyn      54.23  52.43    59.45               7.71  0.57\n",
       "Zoniferol     53.24  51.82    48.53               6.97  0.52"
      ]
     },
     "execution_count": 8,
     "metadata": {},
     "output_type": "execute_result"
    }
   ],
   "source": [
    "# Generate a summary statistics table of mean, median, variance, standard deviation, and SEM of the tumor volume for each regimen\n",
    "\n",
    "# This method produces everything in a single groupby function\n",
    "\n",
    "groupby_summary_df = drop_duplicated_rows.groupby([\"Drug Regimen\"]).agg({'Tumor Volume (mm3)': 'mean'})\n",
    "groupby_summary_df = groupby_summary_df.rename(columns = {\"Tumor Volume (mm3)\" : \"Mean\"})\n",
    "groupby_summary_df[\"Median\"] =  drop_duplicated_rows.groupby([\"Drug Regimen\"]).agg({'Tumor Volume (mm3)': 'median'})\n",
    "groupby_summary_df[\"Variance\"] = drop_duplicated_rows.groupby([\"Drug Regimen\"]).agg({'Tumor Volume (mm3)': 'var'})\n",
    "groupby_summary_df[\"Standard Deviation\"] = drop_duplicated_rows.groupby([\"Drug Regimen\"]).agg({'Tumor Volume (mm3)': 'std'})\n",
    "groupby_summary_df[\"SEM\"] = drop_duplicated_rows.groupby([\"Drug Regimen\"]).agg({'Tumor Volume (mm3)': 'sem'})\n",
    "groupby_summary_df[\"Mean\"] = groupby_summary_df[\"Mean\"].map('{:,.2f}'.format)\n",
    "groupby_summary_df[\"Median\"] = groupby_summary_df[\"Median\"].map('{:,.2f}'.format)\n",
    "groupby_summary_df[\"Variance\"] = groupby_summary_df[\"Variance\"].map('{:,.2f}'.format)\n",
    "groupby_summary_df[\"Standard Deviation\"] = groupby_summary_df[\"Standard Deviation\"].map('{:,.2f}'.format)\n",
    "groupby_summary_df[\"SEM\"] = groupby_summary_df[\"SEM\"].map('{:,.2f}'.format)\n",
    "groupby_summary_df"
   ]
  },
  {
   "cell_type": "markdown",
   "metadata": {},
   "source": [
    "## Bar and Pie Charts"
   ]
  },
  {
   "cell_type": "code",
   "execution_count": 9,
   "metadata": {},
   "outputs": [
    {
     "data": {
      "text/plain": [
       "<AxesSubplot:xlabel='Drug Regimen', ylabel='Mouse Count'>"
      ]
     },
     "execution_count": 9,
     "metadata": {},
     "output_type": "execute_result"
    },
    {
     "data": {
      "image/png": "[encoded data removed]",
      "text/plain": [
       "<Figure size 432x288 with 1 Axes>"
      ]
     },
     "metadata": {
      "needs_background": "light"
     },
     "output_type": "display_data"
    }
   ],
   "source": [
    "# Generate a bar plot showing the total number of mice for each treatment throughout the course of the study using pandas. \n",
    "groupby_summary_df[\"Mouse Count\"] = drop_duplicated_rows.groupby([\"Drug Regimen\"]).agg({'Mouse ID': 'count'})\n",
    "bar_plot_pandas = groupby_summary_df.plot.bar(y=\"Mouse Count\",ylabel=\"Mouse Count\", alpha=1)\n",
    "bar_plot_pandas"
   ]
  },
  {
   "cell_type": "code",
   "execution_count": 10,
   "metadata": {},
   "outputs": [
    {
     "data": {
      "text/plain": [
       "<BarContainer object of 10 artists>"
      ]
     },
     "execution_count": 10,
     "metadata": {},
     "output_type": "execute_result"
    },
    {
     "data": {
      "image/png": "[encoded data removed]",
      "text/plain": [
       "<Figure size 432x288 with 1 Axes>"
      ]
     },
     "metadata": {
      "needs_background": "light"
     },
     "output_type": "display_data"
    }
   ],
   "source": [
    "# Generate a bar plot showing the total number of mice for each treatment throughout the course of the study using pyplot.\n",
    "x_axis = groupby_summary_df[\"Mouse Count\"]\n",
    "y_axis = groupby_summary_df.index\n",
    "bar_plot_pyplot = plt.bar(y_axis, x_axis, color='r', alpha=1, align=\"center\", width=0.6)\n",
    "plt.ylabel(\"Mouse Count\")\n",
    "plt.xlabel(\"Drug Regimen\")\n",
    "plt.xticks(rotation=90)\n",
    "plt.xlim(-.25, len(x_axis)-1)\n",
    "#plt.title(\"Mouse count per Drug Regimen\")\n",
    "bar_plot_pyplot"
   ]
  },
  {
   "cell_type": "code",
   "execution_count": 11,
   "metadata": {},
   "outputs": [
    {
     "data": {
      "image/png": "[encoded data removed]",
      "text/plain": [
       "<Figure size 360x360 with 1 Axes>"
      ]
     },
     "metadata": {},
     "output_type": "display_data"
    }
   ],
   "source": [
    "# Generate a pie plot showing the distribution of female versus male mice using pandas\n",
    "gender_df = drop_duplicated_rows.groupby([\"Sex\"]).agg({'Mouse ID': 'nunique'})\n",
    "\n",
    "plot = gender_df.plot.pie(y=\"Mouse ID\", figsize=(5,5),)"
   ]
  },
  {
   "cell_type": "code",
   "execution_count": 12,
   "metadata": {},
   "outputs": [
    {
     "data": {
      "image/png": "[encoded data removed]",
      "text/plain": [
       "<Figure size 432x288 with 1 Axes>"
      ]
     },
     "metadata": {},
     "output_type": "display_data"
    }
   ],
   "source": [
    "# Generate a pie plot showing the distribution of female versus male mice using pyplot\n",
    "labels = [\"Male\", \"Female\"]\n",
    "explode = (0.1, 0,)\n",
    "colors = [\"red\", \"lightblue\"]\n",
    "plot = plt.pie(gender_df[\"Mouse ID\"], explode=explode, labels=labels, colors=colors,\n",
    "        autopct=\"%1.1f%%\", shadow=True, startangle=180)\n"
   ]
  },
  {
   "cell_type": "markdown",
   "metadata": {},
   "source": [
    "## Quartiles, Outliers and Boxplots"
   ]
  },
  {
   "cell_type": "code",
   "execution_count": 51,
   "metadata": {},
   "outputs": [
    {
     "data": {
      "text/html": [
       "<div>\n",
       "<style scoped>\n",
       "    .dataframe tbody tr th:only-of-type {\n",
       "        vertical-align: middle;\n",
       "    }\n",
       "\n",
       "    .dataframe tbody tr th {\n",
       "        vertical-align: top;\n",
       "    }\n",
       "\n",
       "    .dataframe thead th {\n",
       "        text-align: right;\n",
       "    }\n",
       "</style>\n",
       "<table border=\"1\" class=\"dataframe\">\n",
       "  <thead>\n",
       "    <tr style=\"text-align: right;\">\n",
       "      <th></th>\n",
       "      <th>Mouse ID</th>\n",
       "      <th>Drug Regimen</th>\n",
       "      <th>Timepoint</th>\n",
       "      <th>Tumor Volume (mm3)</th>\n",
       "    </tr>\n",
       "  </thead>\n",
       "  <tbody>\n",
       "    <tr>\n",
       "      <th>9</th>\n",
       "      <td>k403</td>\n",
       "      <td>Ramicane</td>\n",
       "      <td>45</td>\n",
       "      <td>22.050126</td>\n",
       "    </tr>\n",
       "    <tr>\n",
       "      <th>19</th>\n",
       "      <td>s185</td>\n",
       "      <td>Capomulin</td>\n",
       "      <td>45</td>\n",
       "      <td>23.343598</td>\n",
       "    </tr>\n",
       "    <tr>\n",
       "      <th>29</th>\n",
       "      <td>x401</td>\n",
       "      <td>Capomulin</td>\n",
       "      <td>45</td>\n",
       "      <td>28.484033</td>\n",
       "    </tr>\n",
       "    <tr>\n",
       "      <th>39</th>\n",
       "      <td>m601</td>\n",
       "      <td>Capomulin</td>\n",
       "      <td>45</td>\n",
       "      <td>28.430964</td>\n",
       "    </tr>\n",
       "    <tr>\n",
       "      <th>49</th>\n",
       "      <td>g791</td>\n",
       "      <td>Ramicane</td>\n",
       "      <td>45</td>\n",
       "      <td>29.128472</td>\n",
       "    </tr>\n",
       "    <tr>\n",
       "      <th>...</th>\n",
       "      <td>...</td>\n",
       "      <td>...</td>\n",
       "      <td>...</td>\n",
       "      <td>...</td>\n",
       "    </tr>\n",
       "    <tr>\n",
       "      <th>1797</th>\n",
       "      <td>x822</td>\n",
       "      <td>Ceftamin</td>\n",
       "      <td>45</td>\n",
       "      <td>61.386660</td>\n",
       "    </tr>\n",
       "    <tr>\n",
       "      <th>1813</th>\n",
       "      <td>y163</td>\n",
       "      <td>Infubinol</td>\n",
       "      <td>45</td>\n",
       "      <td>67.685569</td>\n",
       "    </tr>\n",
       "    <tr>\n",
       "      <th>1845</th>\n",
       "      <td>y769</td>\n",
       "      <td>Ceftamin</td>\n",
       "      <td>45</td>\n",
       "      <td>68.594745</td>\n",
       "    </tr>\n",
       "    <tr>\n",
       "      <th>1855</th>\n",
       "      <td>y865</td>\n",
       "      <td>Ceftamin</td>\n",
       "      <td>45</td>\n",
       "      <td>64.729837</td>\n",
       "    </tr>\n",
       "    <tr>\n",
       "      <th>1872</th>\n",
       "      <td>z581</td>\n",
       "      <td>Infubinol</td>\n",
       "      <td>45</td>\n",
       "      <td>62.754451</td>\n",
       "    </tr>\n",
       "  </tbody>\n",
       "</table>\n",
       "<p>100 rows × 4 columns</p>\n",
       "</div>"
      ],
      "text/plain": [
       "     Mouse ID Drug Regimen  Timepoint  Tumor Volume (mm3)\n",
       "9        k403     Ramicane         45           22.050126\n",
       "19       s185    Capomulin         45           23.343598\n",
       "29       x401    Capomulin         45           28.484033\n",
       "39       m601    Capomulin         45           28.430964\n",
       "49       g791     Ramicane         45           29.128472\n",
       "...       ...          ...        ...                 ...\n",
       "1797     x822     Ceftamin         45           61.386660\n",
       "1813     y163    Infubinol         45           67.685569\n",
       "1845     y769     Ceftamin         45           68.594745\n",
       "1855     y865     Ceftamin         45           64.729837\n",
       "1872     z581    Infubinol         45           62.754451\n",
       "\n",
       "[100 rows x 4 columns]"
      ]
     },
     "execution_count": 51,
     "metadata": {},
     "output_type": "execute_result"
    }
   ],
   "source": [
    "# Calculate the final tumor volume of each mouse across four of the treatment regimens:  \n",
    "# Capomulin, Ramicane, Infubinol, and Ceftamin\n",
    "subset_duplicated_rows = drop_duplicated_rows[drop_duplicated_rows[\"Drug Regimen\"].isin([\"Infubinol\",\"Ramicane\", \"Capomulin\", \"Ceftamin\"])] \n",
    "subset_duplicated_rows = subset_duplicated_rows.drop(columns=[\"Sex\", \"Age_months\", \"Weight (g)\", \"Metastatic Sites\", \"duplicated\"])\n",
    "subset_duplicated_rows = subset_duplicated_rows.drop_duplicates(subset=[\"Mouse ID\"], keep='last')\n",
    "\n",
    "# Start by getting the last (greatest) timepoint for each mouse\n",
    "subset_duplicated_rows = subset_duplicated_rows.drop_duplicates(subset=[\"Mouse ID\"], keep='last')\n",
    "# Merge this group df with the original dataframe to get the tumor volume at the last timepoint\n",
    "subset_duplicated_rows"
   ]
  },
  {
   "cell_type": "code",
   "execution_count": 93,
   "metadata": {},
   "outputs": [
    {
     "name": "stdout",
     "output_type": "stream",
     "text": [
      "3.07\n",
      "94.04\n",
      "[]\n",
      "[]\n",
      "[]\n",
      "[]\n"
     ]
    }
   ],
   "source": [
    "# Put treatments into a list for for loop (and later for plot labels)\n",
    "subset_duplicated_rows = subset_duplicated_rows.rename(columns={\"Drug Regimen\":\"Drug_regimen\", \"Tumor Volume (mm3)\": \"Tumor_volume\"})\n",
    "Capomulin_list = subset_duplicated_rows[\"Tumor_volume\"].loc[subset_duplicated_rows[\"Drug_regimen\"] == \"Capomulin\"].to_list()\n",
    "Ramicane_list = subset_duplicated_rows[\"Tumor_volume\"].loc[subset_duplicated_rows[\"Drug_regimen\"] == \"Ramicane\"].to_list()\n",
    "Infubinol_list = subset_duplicated_rows[\"Tumor_volume\"].loc[subset_duplicated_rows[\"Drug_regimen\"] == \"Infubinol\"].to_list()\n",
    "Ceftamin_list = subset_duplicated_rows[\"Tumor_volume\"].loc[subset_duplicated_rows[\"Drug_regimen\"] == \"Ceftamin\"].to_list()\n",
    "\n",
    "# Create empty list to fill with tumor vol data (for plotting)\n",
    "tumor_volume_list = []\n",
    "# Calculate the IQR and quantitatively determine if there are any potential outliers. \n",
    "quartiles = tumor_vol.quantile([.25,.5,.75])\n",
    "lowerq = quartiles[0.25]\n",
    "upperq = quartiles[0.75]\n",
    "iqr = upperq-lowerq\n",
    "lower_bound = lowerq - (1.5*iqr)\n",
    "upper_bound = upperq + (1.5*iqr)\n",
    "\n",
    "#lower_bound.map('{:,.2f}'.format)\n",
    "#upper_bound.map('{:,.2f}'.format)\n",
    "print('{:.2f}'.format(lower_bound))\n",
    "print('{:.2f}'.format(upper_bound))\n",
    "# Locate the rows which contain mice on each drug and get the tumor volumes\n",
    "for rows in Capomulin_list,Ramicane_list,Infubinol_list,Ceftamin_list:\n",
    "    Capomulin_outliers = []\n",
    "    Ramicane_outliers = []\n",
    "    Infubinol_outliers = []\n",
    "    Ceftamin_outliers = []\n",
    "     # Determine outliers using upper and lower bounds\n",
    "    if Capomulin_list[0] > upper_bound:\n",
    "       Capomulin_outliers.append()\n",
    "    elif Capomulin_list[0] < lower_bound: \n",
    "       Capomulin_outliers.append()\n",
    "    else: \n",
    "      next\n",
    "    if Ramicane_list[0] > upper_bound:\n",
    "       Ramicane_outliers.append()\n",
    "    elif Ramicane_list[0] < lower_bound: \n",
    "       Ramicane_outliers.append()\n",
    "    else: \n",
    "      next\n",
    "    if Infubinol_list[0] > upper_bound:\n",
    "       Infubinol_outliers.append()\n",
    "    elif Infubinol_list[0] < lower_bound: \n",
    "       Infubinol_outliers.append()\n",
    "    else: \n",
    "      next\n",
    "    if Ceftamin_list[0] > upper_bound:\n",
    "       Ceftamin_outliers.append()\n",
    "    elif Ceftamin_list[0] < lower_bound: \n",
    "       Ceftamin_outliers.append()\n",
    "    else: \n",
    "      next\n",
    "print(Capomulin_outliers)\n",
    "print(Ramicane_outliers)\n",
    "print(Infubinol_outliers)\n",
    "print(Ceftamin_outliers)\n",
    "\n",
    "   \n"
   ]
  },
  {
   "cell_type": "code",
   "execution_count": 106,
   "metadata": {},
   "outputs": [
    {
     "data": {
      "text/plain": [
       "<AxesSubplot:title={'center':'Tumor v Treatment'}, ylabel='Tumor Size'>"
      ]
     },
     "execution_count": 106,
     "metadata": {},
     "output_type": "execute_result"
    },
    {
     "data": {
      "image/png": "[encoded data removed]",
      "text/plain": [
       "<Figure size 432x288 with 1 Axes>"
      ]
     },
     "metadata": {
      "needs_background": "light"
     },
     "output_type": "display_data"
    }
   ],
   "source": [
    "# Generate a box plot of the final tumor volume of each mouse across four regimens of interest\n",
    "Tumor_list = pd.DataFrame({'Capomulin' : Capomulin_list,\n",
    "                            'Ramicane' : Ramicane_list,\n",
    "                            'Infubinol': Infubinol_list,\n",
    "                            'Ceftamin': Ceftamin_list}, \n",
    "                            columns=['Capomulin','Ramicane', 'Infubinol','Ceftamin'])\n",
    "Tumor_box = Tumor_list.plot.box(xlabel = \"Treatment type\", ylabel = \"Tumor Size\", title = \"Tumor v Treatment\")\n",
    "Tumor_box "
   ]
  },
  {
   "cell_type": "markdown",
   "metadata": {},
   "source": [
    "## Line and Scatter Plots"
   ]
  },
  {
   "cell_type": "code",
   "execution_count": 181,
   "metadata": {},
   "outputs": [
    {
     "name": "stdout",
     "output_type": "stream",
     "text": [
      "           Tumor Volume (mm3)\n",
      "Timepoint                    \n",
      "0                 1125.000000\n",
      "5                 1106.652160\n",
      "10                1077.107265\n",
      "15                1009.543616\n",
      "20                 936.475482\n",
      "25                 878.669612\n",
      "30                 852.925464\n",
      "35                 831.970455\n",
      "40                 776.118017\n",
      "45                 760.958390\n"
     ]
    },
    {
     "data": {
      "text/plain": [
       "Text(0.5, 1.0, 'Tumor size over time')"
      ]
     },
     "execution_count": 181,
     "metadata": {},
     "output_type": "execute_result"
    },
    {
     "data": {
      "image/png": "[encoded data removed]",
      "text/plain": [
       "<Figure size 432x288 with 1 Axes>"
      ]
     },
     "metadata": {
      "needs_background": "light"
     },
     "output_type": "display_data"
    }
   ],
   "source": [
    "# Generate a line plot of time point versus tumor volume for a mouse treated with Capomulin\n",
    "Capomulin_drug_regimen = drop_duplicated_rows.loc[drop_duplicated_rows[\"Drug Regimen\"] == \"Capomulin\", [\"Timepoint\",\"Tumor Volume (mm3)\"]]\n",
    "Capomulin_tumor_size =  Capomulin_drug_regimen.groupby([\"Timepoint\"]).sum()\n",
    "x = Capomulin_tumor_size.index\n",
    "y = Capomulin_tumor_size[\"Tumor Volume (mm3)\"]\n",
    "plt.plot(x, y, color=\"blue\", label=\"Tumor size\")\n",
    "plt.xlabel(\"Time point\")\n",
    "plt.ylabel(\"Tumor size\")\n",
    "plt.title(\"Tumor size over time\")\n"
   ]
  },
  {
   "cell_type": "code",
   "execution_count": 204,
   "metadata": {},
   "outputs": [
    {
     "data": {
      "text/plain": [
       "Text(0.5, 1.0, 'Tumor Volume vs Weight')"
      ]
     },
     "execution_count": 204,
     "metadata": {},
     "output_type": "execute_result"
    },
    {
     "data": {
      "image/png": "[encoded data removed]",
      "text/plain": [
       "<Figure size 432x288 with 1 Axes>"
      ]
     },
     "metadata": {
      "needs_background": "light"
     },
     "output_type": "display_data"
    }
   ],
   "source": [
    "# Generate a scatter plot of mouse weight versus average tumor volume for the Capomulin regimen\n",
    "capomulin_scatter_plot = drop_duplicated_rows.loc[drop_duplicated_rows[\"Drug Regimen\"] == \"Capomulin\", [\"Weight (g)\",\"Tumor Volume (mm3)\"]]\n",
    "capomulin_scatter = capomulin_scatter_plot.groupby([\"Tumor Volume (mm3)\"]).mean()\n",
    "x = capomulin_scatter.index\n",
    "y = capomulin_scatter[\"Weight (g)\"] \n",
    "plt.scatter(y,x)\n",
    "plt.ylabel(\"Tumor Volume\")\n",
    "plt.xlabel(\"Weight\")\n",
    "plt.title(\"Tumor Volume vs Weight\")"
   ]
  },
  {
   "cell_type": "markdown",
   "metadata": {},
   "source": [
    "## Correlation and Regression"
   ]
  },
  {
   "cell_type": "code",
   "execution_count": 215,
   "metadata": {},
   "outputs": [
    {
     "data": {
      "text/plain": [
       "Text(0.5, 1.0, 'Tumor Volume vs Weight')"
      ]
     },
     "execution_count": 215,
     "metadata": {},
     "output_type": "execute_result"
    },
    {
     "data": {
      "image/png": "[encoded data removed]",
      "text/plain": [
       "<Figure size 432x288 with 1 Axes>"
      ]
     },
     "metadata": {
      "needs_background": "light"
     },
     "output_type": "display_data"
    }
   ],
   "source": [
    "# Calculate the correlation coefficient and linear regression model \n",
    "# for mouse weight and average tumor volume for the Capomulin regimen\n",
    "Correlation_coefficient = capomulin_scatter.corr\n",
    "\n",
    "st.linregress(x,y)\n",
    "p_fit = p_slope * y + p_int\n",
    "plt.scatter(y,x)\n",
    "plt.plot(y,p_fit,\"--\")\n",
    "plt.ylabel(\"Tumor Volume\")\n",
    "plt.xlabel(\"Weight\")\n",
    "plt.title(\"Tumor Volume vs Weight\")"
   ]
  },
  {
   "cell_type": "code",
   "execution_count": null,
   "metadata": {},
   "outputs": [],
   "source": []
  },
  {
   "cell_type": "code",
   "execution_count": null,
   "metadata": {},
   "outputs": [],
   "source": []
  }
 ],
 "metadata": {
  "anaconda-cloud": {},
  "kernelspec": {
   "display_name": "Python 3",
   "language": "python",
   "name": "python3"
  },
  "language_info": {
   "codemirror_mode": {
    "name": "ipython",
    "version": 3
   },
   "file_extension": ".py",
   "mimetype": "text/x-python",
   "name": "python",
   "nbconvert_exporter": "python",
   "pygments_lexer": "ipython3",
   "version": "3.8.5"
  }
 },
 "nbformat": 4,
 "nbformat_minor": 2
}
